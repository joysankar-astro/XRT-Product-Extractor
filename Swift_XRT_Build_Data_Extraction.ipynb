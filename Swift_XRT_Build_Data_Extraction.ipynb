{
  "nbformat": 4,
  "nbformat_minor": 0,
  "metadata": {
    "colab": {
      "provenance": []
    },
    "kernelspec": {
      "name": "python3",
      "display_name": "Python 3"
    },
    "language_info": {
      "name": "python"
    }
  },
  "cells": [
    {
      "cell_type": "code",
      "source": [
        "pip install astroquery"
      ],
      "metadata": {
        "colab": {
          "base_uri": "https://localhost:8080/"
        },
        "id": "j1J8ZzCYmnmP",
        "outputId": "9ea42624-7203-4877-f975-00d44cc9db91",
        "collapsed": true
      },
      "execution_count": 2,
      "outputs": [
        {
          "output_type": "stream",
          "name": "stdout",
          "text": [
            "Collecting astroquery\n",
            "  Downloading astroquery-0.4.10-py3-none-any.whl.metadata (6.3 kB)\n",
            "Requirement already satisfied: numpy>=1.20 in /usr/local/lib/python3.11/dist-packages (from astroquery) (2.0.2)\n",
            "Requirement already satisfied: astropy>=5.0 in /usr/local/lib/python3.11/dist-packages (from astroquery) (7.0.1)\n",
            "Requirement already satisfied: requests>=2.19 in /usr/local/lib/python3.11/dist-packages (from astroquery) (2.32.3)\n",
            "Requirement already satisfied: beautifulsoup4>=4.8 in /usr/local/lib/python3.11/dist-packages (from astroquery) (4.13.3)\n",
            "Requirement already satisfied: html5lib>=0.999 in /usr/local/lib/python3.11/dist-packages (from astroquery) (1.1)\n",
            "Requirement already satisfied: keyring>=15.0 in /usr/lib/python3/dist-packages (from astroquery) (23.5.0)\n",
            "Collecting pyvo>=1.5 (from astroquery)\n",
            "  Downloading pyvo-1.6.1-py3-none-any.whl.metadata (4.8 kB)\n",
            "Requirement already satisfied: pyerfa>=2.0.1.1 in /usr/local/lib/python3.11/dist-packages (from astropy>=5.0->astroquery) (2.0.1.5)\n",
            "Requirement already satisfied: astropy-iers-data>=0.2025.1.31.12.41.4 in /usr/local/lib/python3.11/dist-packages (from astropy>=5.0->astroquery) (0.2025.3.17.0.34.53)\n",
            "Requirement already satisfied: PyYAML>=6.0.0 in /usr/local/lib/python3.11/dist-packages (from astropy>=5.0->astroquery) (6.0.2)\n",
            "Requirement already satisfied: packaging>=22.0.0 in /usr/local/lib/python3.11/dist-packages (from astropy>=5.0->astroquery) (24.2)\n",
            "Requirement already satisfied: soupsieve>1.2 in /usr/local/lib/python3.11/dist-packages (from beautifulsoup4>=4.8->astroquery) (2.6)\n",
            "Requirement already satisfied: typing-extensions>=4.0.0 in /usr/local/lib/python3.11/dist-packages (from beautifulsoup4>=4.8->astroquery) (4.12.2)\n",
            "Requirement already satisfied: six>=1.9 in /usr/local/lib/python3.11/dist-packages (from html5lib>=0.999->astroquery) (1.17.0)\n",
            "Requirement already satisfied: webencodings in /usr/local/lib/python3.11/dist-packages (from html5lib>=0.999->astroquery) (0.5.1)\n",
            "Requirement already satisfied: charset-normalizer<4,>=2 in /usr/local/lib/python3.11/dist-packages (from requests>=2.19->astroquery) (3.4.1)\n",
            "Requirement already satisfied: idna<4,>=2.5 in /usr/local/lib/python3.11/dist-packages (from requests>=2.19->astroquery) (3.10)\n",
            "Requirement already satisfied: urllib3<3,>=1.21.1 in /usr/local/lib/python3.11/dist-packages (from requests>=2.19->astroquery) (2.3.0)\n",
            "Requirement already satisfied: certifi>=2017.4.17 in /usr/local/lib/python3.11/dist-packages (from requests>=2.19->astroquery) (2025.1.31)\n",
            "Downloading astroquery-0.4.10-py3-none-any.whl (11.1 MB)\n",
            "\u001b[2K   \u001b[90m━━━━━━━━━━━━━━━━━━━━━━━━━━━━━━━━━━━━━━━━\u001b[0m \u001b[32m11.1/11.1 MB\u001b[0m \u001b[31m67.9 MB/s\u001b[0m eta \u001b[36m0:00:00\u001b[0m\n",
            "\u001b[?25hDownloading pyvo-1.6.1-py3-none-any.whl (997 kB)\n",
            "\u001b[2K   \u001b[90m━━━━━━━━━━━━━━━━━━━━━━━━━━━━━━━━━━━━━━━━\u001b[0m \u001b[32m997.6/997.6 kB\u001b[0m \u001b[31m39.6 MB/s\u001b[0m eta \u001b[36m0:00:00\u001b[0m\n",
            "\u001b[?25hInstalling collected packages: pyvo, astroquery\n",
            "Successfully installed astroquery-0.4.10 pyvo-1.6.1\n"
          ]
        }
      ]
    },
    {
      "cell_type": "code",
      "source": [
        "object_name = 'Mkn 501'\n",
        "swift_url = \"https://www.swift.ac.uk/user_objects/tprods/USERPROD_211576/spec/\"\n",
        "output_file = \"Mkn501_xrt.dat\""
      ],
      "metadata": {
        "id": "lhWhXCWg6qFm"
      },
      "execution_count": 7,
      "outputs": []
    },
    {
      "cell_type": "code",
      "source": [
        "from astroquery.heasarc import Heasarc\n",
        "from astropy.coordinates import SkyCoord\n",
        "from bs4 import BeautifulSoup\n",
        "import pandas as pd\n",
        "import requests\n",
        "import re"
      ],
      "metadata": {
        "id": "M153dahE6hdC"
      },
      "execution_count": 8,
      "outputs": []
    },
    {
      "cell_type": "code",
      "source": [
        "pos = SkyCoord.from_name(object_name)\n",
        "heasarc_table = Heasarc.query_region(pos, catalog='swiftmastr')"
      ],
      "metadata": {
        "id": "n8Ox-pIEn0KV"
      },
      "execution_count": 9,
      "outputs": []
    },
    {
      "cell_type": "code",
      "source": [
        "response = requests.get(swift_url)\n",
        "soup = BeautifulSoup(response.text, 'html.parser')\n",
        "\n",
        "tables = soup.find_all('table', class_='chTable')\n",
        "\n",
        "data_list = []\n",
        "\n",
        "for table in tables:\n",
        "    summary = table.get('summary', '')\n",
        "    obs_id = summary.split(\"_\")[-1].split()[0] if \"Obs_\" in summary else \"Unknown\"\n",
        "\n",
        "    matched_row = heasarc_table[heasarc_table['obsid'] == obs_id]\n",
        "    time = matched_row['start_time'][0]\n",
        "\n",
        "    photon_index, photon_upper, photon_lower = None, None, None\n",
        "    flux_obs, flux_upper, flux_lower = None, None, None\n",
        "    chisq, dof, redchisq = None, None, None\n",
        "\n",
        "    for row in table.find_all('tr'):\n",
        "        th = row.find('th')\n",
        "        td = row.find('td')\n",
        "        if not th or not td:\n",
        "            continue\n",
        "\n",
        "        key = th.get_text(strip=True)\n",
        "        value = td.get_text(strip=True)\n",
        "\n",
        "        if \"Photon index\" in key:\n",
        "            parts = value.split(\" \")\n",
        "            photon_index = float(parts[0])\n",
        "            if \"(\" in value:\n",
        "                errors = value[value.find(\"(\") + 1:value.find(\")\")].split(\",\")\n",
        "                photon_upper = float(errors[0].strip())\n",
        "                photon_lower = float(errors[1].strip())\n",
        "\n",
        "        elif \"Flux (0.3-10 keV)(Observed)\" in key:\n",
        "            match = re.search(r\"([\\d.]+)\\s*\\(\\+?([\\d.]+),\\s*-?([\\d.]+)\\)\\s*×\\s*10\\^?(-?\\d+)\", value)\n",
        "            if match:\n",
        "                base_flux = float(match.group(1))\n",
        "                upper_err = float(match.group(2))\n",
        "                lower_err = float(match.group(3))\n",
        "                exponent = int(match.group(4))\n",
        "\n",
        "                flux_obs = base_flux * (10 ** exponent)\n",
        "                flux_upper = upper_err * (10 ** exponent)\n",
        "                flux_lower = lower_err * (10 ** exponent)\n",
        "\n",
        "        elif \"W-stat\" in key:\n",
        "            chisq_dof = value.split(\" \")\n",
        "            chisq = float(chisq_dof[0])\n",
        "            dof = int(chisq_dof[1].strip(\"()\"))\n",
        "            redchisq = chisq / dof\n",
        "\n",
        "    data_list.append([\n",
        "        obs_id, time, photon_index, photon_upper, photon_lower,\n",
        "        flux_obs, flux_upper, flux_lower, chisq, dof, round(redchisq, 3) if redchisq else None\n",
        "    ])\n",
        "\n",
        "with open(output_file, \"w\") as f:\n",
        "    f.write(\"# Obs_ID  Time  Photon_Index  Photon_Upper_Error  Photon_Lower_Error  Flux_Observed  Flux_Upper_Error  Flux_Lower_Error  Chisq  Dof  Redchisq\\n\")\n",
        "\n",
        "    for row in data_list:\n",
        "        f.write(\"  \".join(str(x) if x is not None else \"NA\" for x in row) + \"\\n\")\n",
        "\n",
        "print(f\"Data successfully saved to {output_file}\")\n"
      ],
      "metadata": {
        "colab": {
          "base_uri": "https://localhost:8080/"
        },
        "id": "4vxhLFyp7OeW",
        "outputId": "8dbe1966-34a5-43c2-8eb7-51ccc14b2d20"
      },
      "execution_count": 10,
      "outputs": [
        {
          "output_type": "stream",
          "name": "stdout",
          "text": [
            "Data successfully saved to Mkn501_xrt.dat\n"
          ]
        }
      ]
    }
  ]
}